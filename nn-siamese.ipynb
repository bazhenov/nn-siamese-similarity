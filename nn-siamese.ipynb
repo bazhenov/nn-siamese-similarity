{
 "cells": [
  {
   "cell_type": "code",
   "execution_count": 1,
   "metadata": {},
   "outputs": [
    {
     "name": "stderr",
     "output_type": "stream",
     "text": [
      "/usr/local/lib/python3.5/dist-packages/h5py/__init__.py:36: FutureWarning: Conversion of the second argument of issubdtype from `float` to `np.floating` is deprecated. In future, it will be treated as `np.float64 == np.dtype(float).type`.\n",
      "  from ._conv import register_converters as _register_converters\n"
     ]
    }
   ],
   "source": [
    "import tensorflow as tf\n",
    "from tensorflow.examples.tutorials.mnist import input_data\n",
    "import matplotlib.pyplot as plt\n",
    "import numpy as np\n",
    "\n",
    "%matplotlib inline"
   ]
  },
  {
   "cell_type": "code",
   "execution_count": 2,
   "metadata": {},
   "outputs": [
    {
     "name": "stdout",
     "output_type": "stream",
     "text": [
      "WARNING:tensorflow:From <ipython-input-2-f9584ef0ae80>:1: read_data_sets (from tensorflow.contrib.learn.python.learn.datasets.mnist) is deprecated and will be removed in a future version.\n",
      "Instructions for updating:\n",
      "Please use alternatives such as official/mnist/dataset.py from tensorflow/models.\n",
      "WARNING:tensorflow:From /usr/local/lib/python3.5/dist-packages/tensorflow/contrib/learn/python/learn/datasets/mnist.py:260: maybe_download (from tensorflow.contrib.learn.python.learn.datasets.base) is deprecated and will be removed in a future version.\n",
      "Instructions for updating:\n",
      "Please write your own downloading logic.\n",
      "WARNING:tensorflow:From /usr/local/lib/python3.5/dist-packages/tensorflow/contrib/learn/python/learn/datasets/mnist.py:262: extract_images (from tensorflow.contrib.learn.python.learn.datasets.mnist) is deprecated and will be removed in a future version.\n",
      "Instructions for updating:\n",
      "Please use tf.data to implement this functionality.\n",
      "Extracting MNIST_data/train-images-idx3-ubyte.gz\n",
      "WARNING:tensorflow:From /usr/local/lib/python3.5/dist-packages/tensorflow/contrib/learn/python/learn/datasets/mnist.py:267: extract_labels (from tensorflow.contrib.learn.python.learn.datasets.mnist) is deprecated and will be removed in a future version.\n",
      "Instructions for updating:\n",
      "Please use tf.data to implement this functionality.\n",
      "Extracting MNIST_data/train-labels-idx1-ubyte.gz\n",
      "Extracting MNIST_data/t10k-images-idx3-ubyte.gz\n",
      "Extracting MNIST_data/t10k-labels-idx1-ubyte.gz\n",
      "WARNING:tensorflow:From /usr/local/lib/python3.5/dist-packages/tensorflow/contrib/learn/python/learn/datasets/mnist.py:290: DataSet.__init__ (from tensorflow.contrib.learn.python.learn.datasets.mnist) is deprecated and will be removed in a future version.\n",
      "Instructions for updating:\n",
      "Please use alternatives such as official/mnist/dataset.py from tensorflow/models.\n"
     ]
    }
   ],
   "source": [
    "mnist = input_data.read_data_sets(\"MNIST_data/\", one_hot=False)"
   ]
  },
  {
   "cell_type": "code",
   "execution_count": 3,
   "metadata": {},
   "outputs": [
    {
     "data": {
      "text/plain": [
       "array([ 0, 14, 22, 25, 35, 49, 57, 59, 68, 89])"
      ]
     },
     "execution_count": 3,
     "metadata": {},
     "output_type": "execute_result"
    }
   ],
   "source": [
    "#plt.imshow(mnist.train.images[0].reshape((28, 28)))\n",
    "\n",
    "np.where(mnist.train.labels == 7)[0][0:10]"
   ]
  },
  {
   "cell_type": "code",
   "execution_count": 4,
   "metadata": {},
   "outputs": [
    {
     "data": {
      "text/plain": [
       "(<tf.Tensor 'A:0' shape=(10, 784) dtype=float32>,\n",
       " <tf.Tensor 'B:0' shape=(10, 784) dtype=float32>,\n",
       " <tf.Tensor 'labels:0' shape=(10,) dtype=float32>,\n",
       " <tf.Tensor 'contrastive_loss:0' shape=() dtype=float32>,\n",
       " <tf.Tensor 'l2_normalize:0' shape=(10, 50) dtype=float32>,\n",
       " <tf.Tensor 'Sum:0' shape=(10,) dtype=float32>)"
      ]
     },
     "execution_count": 4,
     "metadata": {},
     "output_type": "execute_result"
    }
   ],
   "source": [
    "def build_graph(batch_size = 10, input_features = 784, filter_size = 10):\n",
    "    A = tf.placeholder(dtype=tf.float32, shape=(batch_size, input_features), name=\"A\")\n",
    "    B = tf.placeholder(dtype=tf.float32, shape=(batch_size, input_features), name=\"B\")\n",
    "    labels = tf.placeholder(dtype=tf.float32, shape=(batch_size), name=\"labels\")\n",
    "    hidden_features = 7 * 7 * filter_size\n",
    "    out_features = 50\n",
    "    \n",
    "    fc_weights = tf.Variable(np.random.randn(hidden_features, out_features), dtype=tf.float32)\n",
    "    b = tf.Variable(np.random.randn(out_features), dtype=tf.float32)\n",
    "\n",
    "    filter1 = tf.Variable(np.random.randn(3, 3, 1, filter_size), dtype=tf.float32)\n",
    "    filter2 = tf.Variable(np.random.randn(3, 3, 10, filter_size), dtype=tf.float32)\n",
    "    \n",
    "    Ax = tf.reshape(A, [batch_size, 28, 28, 1])\n",
    "    Bx = tf.reshape(B, [batch_size, 28, 28, 1])\n",
    "    \n",
    "    A_conv1 = tf.nn.leaky_relu(tf.nn.conv2d(Ax, filter1, [1, 1, 1, 1], \"SAME\"))\n",
    "    A_pool1 = tf.layers.max_pooling2d(inputs=A_conv1, pool_size=[2, 2], strides=2)\n",
    "    \n",
    "    B_conv1 = tf.nn.leaky_relu(tf.nn.conv2d(Bx, filter1, [1, 1, 1, 1], \"SAME\"))\n",
    "    B_pool1 = tf.layers.max_pooling2d(inputs=B_conv1, pool_size=[2, 2], strides=2)\n",
    "    \n",
    "    A_conv2 = tf.nn.leaky_relu(tf.nn.conv2d(A_pool1, filter2, [1, 1, 1, 1], \"SAME\"))\n",
    "    A_pool2 = tf.layers.max_pooling2d(inputs=A_conv2, pool_size=[2, 2], strides=2)\n",
    "    \n",
    "    B_conv2 = tf.nn.leaky_relu(tf.nn.conv2d(B_pool1, filter2, [1, 1, 1, 1], \"SAME\"))\n",
    "    B_pool2 = tf.layers.max_pooling2d(inputs=B_conv2, pool_size=[2, 2], strides=2)\n",
    "    \n",
    "    \n",
    "    Fa = tf.reshape(A_pool2, [batch_size, hidden_features])\n",
    "    Fb = tf.reshape(B_pool2, [batch_size, hidden_features])\n",
    "    \n",
    "    Fa = tf.nn.xw_plus_b(Fa, fc_weights, b)\n",
    "    Fb = tf.nn.xw_plus_b(Fb, fc_weights, b)\n",
    "\n",
    "    embeddings_A = tf.nn.l2_normalize(Fa, axis=1)\n",
    "    embeddings_B = tf.nn.l2_normalize(Fb, axis=1)\n",
    "    \n",
    "    dist = tf.pow(embeddings_A - embeddings_B, 2)\n",
    "    dist = tf.reduce_sum(dist, 1)\n",
    "        \n",
    "    loss = tf.contrib.losses.metric_learning.contrastive_loss(labels, embeddings_A, embeddings_B, margin=0.5)\n",
    "    \n",
    "    return A, B, labels, loss, embeddings_A, dist\n",
    "\n",
    "build_graph()"
   ]
  },
  {
   "cell_type": "code",
   "execution_count": 5,
   "metadata": {},
   "outputs": [
    {
     "data": {
      "text/plain": [
       "(array([[0., 0., 0., ..., 0., 0., 0.],\n",
       "        [0., 0., 0., ..., 0., 0., 0.],\n",
       "        [0., 0., 0., ..., 0., 0., 0.],\n",
       "        ...,\n",
       "        [0., 0., 0., ..., 0., 0., 0.],\n",
       "        [0., 0., 0., ..., 0., 0., 0.],\n",
       "        [0., 0., 0., ..., 0., 0., 0.]], dtype=float32),\n",
       " array([[0., 0., 0., ..., 0., 0., 0.],\n",
       "        [0., 0., 0., ..., 0., 0., 0.],\n",
       "        [0., 0., 0., ..., 0., 0., 0.],\n",
       "        ...,\n",
       "        [0., 0., 0., ..., 0., 0., 0.],\n",
       "        [0., 0., 0., ..., 0., 0., 0.],\n",
       "        [0., 0., 0., ..., 0., 0., 0.]], dtype=float32),\n",
       " array([0., 0., 0., 0., 0., 0., 0., 0., 1., 0.], dtype=float32))"
      ]
     },
     "execution_count": 5,
     "metadata": {},
     "output_type": "execute_result"
    }
   ],
   "source": [
    "def generate_samples(n = 1, D=mnist.train):\n",
    "    while True:\n",
    "        idxA = np.random.randint(D.labels.shape[0], size=n)\n",
    "        idxB = np.random.randint(D.labels.shape[0], size=n)\n",
    "        if (np.intersect1d(idxA, idxB).shape[0] == 0):\n",
    "            break\n",
    "    similar = (D.labels[idxA] == D.labels[idxB]).astype(np.float32)\n",
    "    return D.images[idxA], D.images[idxB], similar\n",
    "\n",
    "generate_samples(n = 10)"
   ]
  },
  {
   "cell_type": "code",
   "execution_count": 6,
   "metadata": {},
   "outputs": [
    {
     "name": "stdout",
     "output_type": "stream",
     "text": [
      "Loss (train/test): (0.0362/0.0451)\n",
      "Model saved in path: ./model.ckpt\n",
      "Loss (train/test): (0.0123/0.0128)\n",
      "Model saved in path: ./model.ckpt\n",
      "Loss (train/test): (0.0055/0.0068)\n",
      "Model saved in path: ./model.ckpt\n",
      "Loss (train/test): (0.0074/0.0074)\n",
      "Model saved in path: ./model.ckpt\n",
      "Loss (train/test): (0.0072/0.0073)\n",
      "Model saved in path: ./model.ckpt\n",
      "Loss (train/test): (0.0058/0.0075)\n",
      "Model saved in path: ./model.ckpt\n",
      "Loss (train/test): (0.0090/0.0081)\n",
      "Model saved in path: ./model.ckpt\n",
      "Loss (train/test): (0.0088/0.0128)\n",
      "Model saved in path: ./model.ckpt\n",
      "Loss (train/test): (0.0069/0.0126)\n",
      "Model saved in path: ./model.ckpt\n",
      "Loss (train/test): (0.0095/0.0059)\n",
      "Model saved in path: ./model.ckpt\n",
      "Loss (train/test): (0.0090/0.0072)\n",
      "Model saved in path: ./model.ckpt\n",
      "Loss (train/test): (0.0076/0.0089)\n",
      "Model saved in path: ./model.ckpt\n",
      "Loss (train/test): (0.0043/0.0044)\n",
      "Model saved in path: ./model.ckpt\n",
      "Loss (train/test): (0.0064/0.0059)\n",
      "Model saved in path: ./model.ckpt\n",
      "Loss (train/test): (0.0066/0.0113)\n",
      "Model saved in path: ./model.ckpt\n",
      "Loss (train/test): (0.0070/0.0079)\n",
      "Model saved in path: ./model.ckpt\n",
      "Loss (train/test): (0.0152/0.0051)\n",
      "Model saved in path: ./model.ckpt\n",
      "Loss (train/test): (0.0075/0.0041)\n",
      "Model saved in path: ./model.ckpt\n",
      "Loss (train/test): (0.0089/0.0101)\n",
      "Model saved in path: ./model.ckpt\n",
      "Loss (train/test): (0.0048/0.0084)\n",
      "Model saved in path: ./model.ckpt\n"
     ]
    }
   ],
   "source": [
    "batch_size = 100\n",
    "tf.reset_default_graph()\n",
    "with tf.Session() as s:\n",
    "    A, B, labels, loss, _, dist = build_graph(batch_size=batch_size)\n",
    "    learning_rate = tf.placeholder(shape=(), dtype=tf.float32)\n",
    "    rate = 0.005\n",
    "    \n",
    "    optimizer = tf.train.AdamOptimizer(learning_rate=learning_rate)\n",
    "    train_step = optimizer.minimize(loss)\n",
    "    \n",
    "    s.run(tf.global_variables_initializer())\n",
    "    saver = tf.train.Saver()\n",
    "    \n",
    "    for i in range(20000):\n",
    "        Aim, Bim, Lim = generate_samples(n=batch_size)\n",
    "        loss_, _, dist_ = s.run([loss, train_step, dist], feed_dict={\n",
    "            A: Aim,\n",
    "            B: Bim,\n",
    "            labels: Lim,\n",
    "            learning_rate: rate\n",
    "        })\n",
    "        if i % 1000 == 0:\n",
    "            rate /= 1.4\n",
    "            Aim, Bim, Lim = generate_samples(n=batch_size, D=mnist.test)\n",
    "            test_loss = s.run(loss, feed_dict={\n",
    "                A: Aim,\n",
    "                B: Bim,\n",
    "                labels: Lim\n",
    "            })\n",
    "            print(\"Loss (train/test): ({:6.4f}/{:6.4f})\".format(loss_, test_loss))\n",
    "            \n",
    "            save_path = saver.save(s, \"./model.ckpt\")\n",
    "            print(\"Model saved in path: {:s}\".format(save_path))"
   ]
  },
  {
   "cell_type": "code",
   "execution_count": 7,
   "metadata": {},
   "outputs": [
    {
     "name": "stdout",
     "output_type": "stream",
     "text": [
      "INFO:tensorflow:Restoring parameters from ./model.ckpt\n",
      "INFO:tensorflow:Restoring parameters from ./model.ckpt\n",
      "(10000, 50)\n"
     ]
    }
   ],
   "source": [
    "def build_embeddings(data):\n",
    "    with tf.Session(graph=tf.Graph()) as s:\n",
    "        A, B, labels, loss, embeddings, _ = build_graph(batch_size=data.shape[0]);\n",
    "        saver = tf.train.Saver()\n",
    "        saver.restore(s, \"./model.ckpt\")\n",
    "        return s.run(embeddings, feed_dict={\n",
    "            A: data\n",
    "        })\n",
    "    \n",
    "test_embeddings = build_embeddings(mnist.test.images)\n",
    "train_embeddings = build_embeddings(mnist.train.images)\n",
    "\n",
    "print(test_embeddings.shape)"
   ]
  },
  {
   "cell_type": "markdown",
   "metadata": {},
   "source": [
    "Пробуем кластеризовать результаты при помощи Knn"
   ]
  },
  {
   "cell_type": "code",
   "execution_count": 8,
   "metadata": {},
   "outputs": [],
   "source": [
    "from sklearn.neighbors import NearestNeighbors\n",
    "from sklearn.metrics import accuracy_score"
   ]
  },
  {
   "cell_type": "code",
   "execution_count": 57,
   "metadata": {},
   "outputs": [],
   "source": [
    "nn = NearestNeighbors(n_neighbors=11).fit(mnist.train.images)"
   ]
  },
  {
   "cell_type": "code",
   "execution_count": 98,
   "metadata": {},
   "outputs": [
    {
     "name": "stdout",
     "output_type": "stream",
     "text": [
      "0.948\n"
     ]
    }
   ],
   "source": [
    "idx = nn.kneighbors(mnist.test.images[0:1000], return_distance=False)\n",
    "pred = np.array([np.argmax(np.bincount(row)) for row in mnist.train.labels[idx]])\n",
    "\n",
    "print(accuracy_score(mnist.test.labels[0:1000], pred))"
   ]
  },
  {
   "cell_type": "markdown",
   "metadata": {},
   "source": [
    "Теперь пробуем то же самое на вложениях полученных с использованием NN"
   ]
  },
  {
   "cell_type": "code",
   "execution_count": 9,
   "metadata": {},
   "outputs": [],
   "source": [
    "nnEmb = NearestNeighbors(n_neighbors=11).fit(train_embeddings)"
   ]
  },
  {
   "cell_type": "code",
   "execution_count": 10,
   "metadata": {},
   "outputs": [
    {
     "name": "stdout",
     "output_type": "stream",
     "text": [
      "0.977\n"
     ]
    }
   ],
   "source": [
    "idx = nnEmb.kneighbors(test_embeddings[0:1000], return_distance=False)\n",
    "pred = np.array([np.argmax(np.bincount(row)) for row in mnist.train.labels[idx]])\n",
    "\n",
    "print(accuracy_score(mnist.test.labels[0:1000], pred))"
   ]
  },
  {
   "cell_type": "code",
   "execution_count": 12,
   "metadata": {},
   "outputs": [
    {
     "data": {
      "text/plain": [
       "<matplotlib.image.AxesImage at 0x7fc409d5a240>"
      ]
     },
     "execution_count": 12,
     "metadata": {},
     "output_type": "execute_result"
    },
    {
     "data": {
      "image/png": "[encoded data removed]",
      "text/plain": [
       "<Figure size 432x288 with 1 Axes>"
      ]
     },
     "metadata": {},
     "output_type": "display_data"
    }
   ],
   "source": [
    "plt.imshow(mnist.train.images[idx[0][9]].reshape(28, 28))"
   ]
  },
  {
   "cell_type": "code",
   "execution_count": 24,
   "metadata": {},
   "outputs": [
    {
     "data": {
      "image/png": "[encoded data removed]",
      "text/plain": [
       "<Figure size 576x576 with 10 Axes>"
      ]
     },
     "metadata": {},
     "output_type": "display_data"
    }
   ],
   "source": [
    "import numpy as np\n",
    "import matplotlib.pyplot as plt\n",
    "\n",
    "im_to_show=183\n",
    "w=10\n",
    "h=10\n",
    "fig=plt.figure(figsize=(8, 8))\n",
    "columns = 5\n",
    "rows = 2\n",
    "fig.add_subplot(rows, columns, 1)\n",
    "plt.imshow(mnist.test.images[im_to_show].reshape(28, 28))\n",
    "for i in range(2, columns*rows +1):\n",
    "    fig.add_subplot(rows, columns, i)\n",
    "    plt.imshow(mnist.train.images[idx[im_to_show][i]].reshape(28, 28))\n",
    "plt.show()"
   ]
  }
 ],
 "metadata": {
  "kernelspec": {
   "display_name": "Python 3",
   "language": "python",
   "name": "python3"
  },
  "language_info": {
   "codemirror_mode": {
    "name": "ipython",
    "version": 3
   },
   "file_extension": ".py",
   "mimetype": "text/x-python",
   "name": "python",
   "nbconvert_exporter": "python",
   "pygments_lexer": "ipython3",
   "version": "3.5.2"
  }
 },
 "nbformat": 4,
 "nbformat_minor": 2
}
